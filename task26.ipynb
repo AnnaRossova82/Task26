{
 "cells": [
  {
   "cell_type": "code",
   "execution_count": 5,
   "id": "3098c53b",
   "metadata": {},
   "outputs": [
    {
     "name": "stdout",
     "output_type": "stream",
     "text": [
      "40\n",
      "Мода =  9\n",
      "Медіана =  10.0\n",
      "10\n",
      "10\n",
      "x1= 3\n",
      "Прогонимо через цей цикл всі числа по порядку і отримаємо варіанти х та частоти n:\n",
      "x1=10 - n1=6, x2=13 - n2=3, x3=9 - n3=8, x4=12 - n4=5, x5=6 - n5=1, x6=7 - n6=3, x7=8 - n7=6, x8=11 - n8=6, x9=14 - n9=2\n",
      "Поділимо частoти на кількість спостережень 40 та матимемо відносні частоти w:\n",
      "x1=10 - w1=0.15, x2=13 - w2=0.075, x3=9 - w3=0.2, x4=12 - w4=0.125, x5=6 - w5=0.025, x6=7 - w6=0.075, x7=8 - w7=0.16, x8=11 - w8=0.15, x9=14 - w9=0.05\n",
      "F*(x)=nx/n = 4.444444444444445\n"
     ]
    }
   ],
   "source": [
    "import statistics\n",
    "\n",
    "#Для другого завдання:\n",
    "x = [10,13,10,9,9,12,12,6,7,9,8,9,11,9,14,13,9,8,8,7,10,10,11,11,11,12,8,7,9,10,14,13,8,8,9,10,11,11,12,12]\n",
    "print(len(x))\n",
    "print(\"Мода = \",statistics.mode(x))\n",
    "print(\"Медіана = \",statistics.median(x))\n",
    "print(statistics.median_low(x))\n",
    "print(statistics.median_high(x))\n",
    "\n",
    "s=0\n",
    "for i in x:\n",
    "    if i==13:        \n",
    "        s=s+1\n",
    "print(\"x1=\", s)\n",
    "#x1=10,x2=13,x3=9,x4=12,x5=6,x6=7,x7=8,x8=11,x9=14\n",
    "print(\"Прогонимо через цей цикл всі числа по порядку і отримаємо варіанти х та частоти n:\")\n",
    "print(\"x1=10 - n1=6, x2=13 - n2=3, x3=9 - n3=8, x4=12 - n4=5, x5=6 - n5=1, x6=7 - n6=3, x7=8 - n7=6, x8=11 - n8=6, x9=14 - n9=2\")\n",
    "print(\"Поділимо частoти на кількість спостережень 40 та матимемо відносні частоти w:\")\n",
    "print(\"x1=10 - w1=0.15, x2=13 - w2=0.075, x3=9 - w3=0.2, x4=12 - w4=0.125, x5=6 - w5=0.025, x6=7 - w6=0.075, x7=8 - w7=0.16, x8=11 - w8=0.15, x9=14 - w9=0.05\")\n",
    "#F*(x)=nx/n = (6+3+8+5+1+3+6+6+2)/9\n",
    "f=(6+3+8+5+1+3+6+6+2)/9\n",
    "print(\"F*(x)=nx/n =\", f)\n"
   ]
  },
  {
   "cell_type": "code",
   "execution_count": 8,
   "id": "7a132a1a",
   "metadata": {},
   "outputs": [
    {
     "name": "stdout",
     "output_type": "stream",
     "text": [
      "1.6666666666666667\n",
      "-1.6666666666666667\n",
      "Для 100 випадків ймовірність витримати гар.термін в межах (85;95) буде = 0.90309\n"
     ]
    }
   ],
   "source": [
    "#Для першого завдання - ймовірність витримити гар.термін = 0,9; межі - [85: 95]\n",
    "#Середнє значення рівномірного розподілу дорівнює μ = (b+a)/2, де b – максимально можливе значення, \n",
    "#а a – найменше можливе значення. У даному випадку це (85+95)/2=90.\n",
    "#Середнє значення вибіркового розподілу дорівнює середньому значенню генер.сукупності (центр.гранич.теорема)\n",
    "#застосовуємо інтегральну формулу Муавра-Лапласа, при 0<09(p)<1: спробуємо для 100 випадків - адже кількість не задана, \n",
    "#а при великій кількості випробувань статистична ймовірність прямує до теоретичної.\n",
    "n=100\n",
    "p=0.9\n",
    "q=0.1\n",
    "k1=85\n",
    "k2=95\n",
    "x1=(k2-n*p)/(n*p*q)**0.5\n",
    "x2=(k1-n*p)/(n*p*q)**0.5\n",
    "print(x1)\n",
    "print(x2)\n",
    "\n",
    "#P10(85:95)=F(x2)-F(x1)  - треба взяти з таблиці Лапласа, для всех аргументов больше п`яти, вона рівна 0,5; для 1.66=0.90309\n",
    "f=0.5*(0.90309-(-0.90309))\n",
    "print(\"Для 100 випадків ймовірність витримати гар.термін в межах (85;95) буде =\",f)\n"
   ]
  },
  {
   "cell_type": "code",
   "execution_count": null,
   "id": "b6200fa2",
   "metadata": {},
   "outputs": [],
   "source": []
  },
  {
   "cell_type": "code",
   "execution_count": null,
   "id": "51316f86",
   "metadata": {},
   "outputs": [],
   "source": []
  },
  {
   "cell_type": "code",
   "execution_count": null,
   "id": "07b1fc9d",
   "metadata": {},
   "outputs": [],
   "source": []
  },
  {
   "cell_type": "code",
   "execution_count": null,
   "id": "379ec326",
   "metadata": {},
   "outputs": [],
   "source": []
  },
  {
   "cell_type": "code",
   "execution_count": null,
   "id": "dcc9cfea",
   "metadata": {},
   "outputs": [],
   "source": []
  },
  {
   "cell_type": "code",
   "execution_count": null,
   "id": "b3328b66",
   "metadata": {},
   "outputs": [],
   "source": [
    "\n",
    "\n",
    "\n"
   ]
  },
  {
   "cell_type": "code",
   "execution_count": null,
   "id": "a96caa97",
   "metadata": {},
   "outputs": [],
   "source": []
  },
  {
   "cell_type": "code",
   "execution_count": null,
   "id": "2bdd749c",
   "metadata": {},
   "outputs": [],
   "source": []
  },
  {
   "cell_type": "code",
   "execution_count": null,
   "id": "9cfe61f5",
   "metadata": {},
   "outputs": [],
   "source": []
  },
  {
   "cell_type": "code",
   "execution_count": null,
   "id": "a504fbff",
   "metadata": {},
   "outputs": [],
   "source": []
  },
  {
   "cell_type": "code",
   "execution_count": null,
   "id": "f4656c79",
   "metadata": {},
   "outputs": [],
   "source": []
  }
 ],
 "metadata": {
  "kernelspec": {
   "display_name": "Python 3 (ipykernel)",
   "language": "python",
   "name": "python3"
  },
  "language_info": {
   "codemirror_mode": {
    "name": "ipython",
    "version": 3
   },
   "file_extension": ".py",
   "mimetype": "text/x-python",
   "name": "python",
   "nbconvert_exporter": "python",
   "pygments_lexer": "ipython3",
   "version": "3.9.13"
  }
 },
 "nbformat": 4,
 "nbformat_minor": 5
}
